import pandas as pd
import numpy as np
import matplotlib.pyplot as plt
import seaborn as sns

sns.set(style="whitegrid")

# Load the single Titanic CSV
df = pd.read_csv('titanic.csv')   # your single CSV file
df.shape
df.head()
df.info()
df.describe(include='all').T

# Check missing values
missing = df.isnull().sum().sort_values(ascending=False)
missing = pd.concat([missing, (df.isnull().mean()*100).sort_values(ascending=False)], axis=1)
missing.columns = ['missing_count', 'missing_pct']
missing.head(10)

# Target distribution
sns.countplot(x='Survived', data=df)
plt.title('Survived count')
plt.show()

# Pclass vs Survived
sns.countplot(x='Pclass', hue='Survived', data=df)
plt.title('Survival by Pclass')
plt.show()

# Sex vs Survived
sns.countplot(x='Sex', hue='Survived', data=df)
plt.title('Survival by Sex')
plt.show()

# Age distribution
plt.figure(figsize=(8,4))
sns.histplot(df['Age'].dropna(), kde=True, bins=30)
plt.title('Age distribution')
plt.show()

# Age vs Survival (boxplot)
plt.figure(figsize=(8,4))
sns.boxplot(x='Survived', y='Age', data=df)
plt.title('Age vs Survived')
plt.show()

# Fare distribution by class & survival
plt.figure(figsize=(10,5))
sns.boxplot(x='Pclass', y='Fare', hue='Survived', data=df)
plt.title('Fare by Pclass and Survival')
plt.show()

# Correlation heatmap for numeric cols
num_cols = ['Age','SibSp','Parch','Fare','Survived']
plt.figure(figsize=(6,4))
sns.heatmap(df[num_cols].corr(), annot=True, cmap='Blues')
plt.show()

# Feature engineering
# Title from Name
df['Title'] = df['Name'].str.extract(' ([A-Za-z]+)\.', expand=False)
df['Title'] = df['Title'].replace(['Mlle','Ms','Mme'],'Miss')  # small cleanup

# Family size
df['FamilySize'] = df['SibSp'] + df['Parch'] + 1
df['IsAlone'] = (df['FamilySize'] == 1).astype(int)

# Cabin: take first letter
df['CabinLetter'] = df['Cabin'].str[0]
df['CabinLetter'] = df['CabinLetter'].fillna('Unknown')

# Age bin
df['AgeBin'] = pd.cut(df['Age'], bins=[0,12,20,40,60,100], labels=['Child','Teen','Adult','MidAge','Senior'])

# Fill missing values
df['Embarked'].fillna(df['Embarked'].mode()[0], inplace=True)
df['Fare'].fillna(df['Fare'].median(), inplace=True)
df['Age'] = df.groupby('Title')['Age'].apply(lambda x: x.fillna(x.median()))
df['Age'].fillna(df['Age'].median(), inplace=True)  # final fallback

# ML pipeline
from sklearn.model_selection import train_test_split, cross_val_score
from sklearn.preprocessing import OneHotEncoder
from sklearn.compose import ColumnTransformer
from sklearn.pipeline import Pipeline
from sklearn.impute import SimpleImputer
from sklearn.linear_model import LogisticRegression
from sklearn.metrics import accuracy_score, classification_report, confusion_matrix

# select features
features = ['Pclass','Sex','Age','Fare','Embarked','FamilySize','IsAlone','Title']
X = df[features]
y = df['Survived']

# simple pipeline
numeric_features = ['Age','Fare','FamilySize']
numeric_transformer = Pipeline(steps=[
    ('imputer', SimpleImputer(strategy='median'))
])

categorical_features = ['Pclass','Sex','Embarked','Title','IsAlone']
categorical_transformer = Pipeline(steps=[
    ('imputer', SimpleImputer(strategy='most_frequent')),
    ('onehot', OneHotEncoder(handle_unknown='ignore'))
])

preprocessor = ColumnTransformer(transformers=[
    ('num', numeric_transformer, numeric_features),
    ('cat', categorical_transformer, categorical_features)
])

clf = Pipeline(steps=[('preprocessor', preprocessor),
                      ('classifier', LogisticRegression(max_iter=200))])

# Split the single CSV into train and validation sets
X_train, X_val, y_train, y_val = train_test_split(X, y, test_size=0.2, random_state=42, stratify=y)

# Evaluate with cross-validation
scores = cross_val_score(clf, X_train, y_train, cv=5, scoring='accuracy')
print("CV accuracy:", scores.mean(), scores)

# Train and predict
clf.fit(X_train, y_train)
y_pred = clf.predict(X_val)

print("Validation Accuracy:", accuracy_score(y_val, y_pred))
print(classification_report(y_val, y_pred))
sns.heatmap(confusion_matrix(y_val, y_pred), annot=True, fmt='d')
plt.title('Confusion matrix')
plt.show()

